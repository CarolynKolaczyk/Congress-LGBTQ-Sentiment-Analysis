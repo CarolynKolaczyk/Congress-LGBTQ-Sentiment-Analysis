{
 "cells": [
  {
   "cell_type": "markdown",
   "id": "329d0c28",
   "metadata": {},
   "source": [
    "# Data Processing"
   ]
  },
  {
   "cell_type": "code",
   "execution_count": 1,
   "id": "e7ac3c47",
   "metadata": {},
   "outputs": [],
   "source": [
    "import pandas as pd\n",
    "import numpy as np"
   ]
  },
  {
   "cell_type": "code",
   "execution_count": 2,
   "id": "ba288926",
   "metadata": {},
   "outputs": [],
   "source": [
    "data_loc = 'data/' # location of data folder\n",
    "daily_loc = 'data/hein-daily/' # location of hein-daily Congressional Record data"
   ]
  },
  {
   "cell_type": "code",
   "execution_count": 3,
   "id": "039163e6",
   "metadata": {},
   "outputs": [],
   "source": [
    "def process_data(session_num):\n",
    "    \"\"\"\n",
    "    Process raw data from specified session number. \n",
    "        \n",
    "        Parameters:\n",
    "            session_num (string): A valid Congressional Record session id\n",
    "            \n",
    "        Returns:\n",
    "            df (DataFrame): A DataFrame of processed data from specified session number\n",
    "    \"\"\"\n",
    "    \n",
    "    print('processing session ' + session_num)\n",
    "    \n",
    "    # file names\n",
    "    descr = 'descr_' + session_num + '.txt'\n",
    "    speeches = 'speeches_' + session_num + '.txt'\n",
    "    speaker_data = session_num + '_SpeakerMap.txt'\n",
    "    \n",
    "    # read in 3 relevant files\n",
    "    metadata = pd.read_csv(daily_loc+descr, sep='|', dtype={'speech_id': object})\n",
    "    df_speakers = pd.read_csv(daily_loc+speaker_data, sep='|', encoding= 'unicode_escape', \n",
    "                              dtype={'speech_id': object})\n",
    "    df_speech = pd.read_csv(daily_loc+speeches, sep='|', encoding= 'unicode_escape', \n",
    "                            encoding_errors = 'ignore',on_bad_lines='skip',\n",
    "                           dtype={'speech_id': object, 'speech': object})\n",
    "    \n",
    "    # convert date column to datetime\n",
    "    metadata ['date']= pd.to_datetime(metadata ['date'], format='%Y%m%d')\n",
    "    \n",
    "    # add date to df_speech from metadata\n",
    "    df_speech = df_speech.merge(metadata[['speech_id', 'date']], on='speech_id')\n",
    "    \n",
    "    # merge to get necessary columns only\n",
    "    df_1 = df_speakers[['speakerid', 'speech_id', 'lastname', 'firstname', 'state', 'party']]\n",
    "    df_all = df_1.merge(df_speech, on='speech_id')\n",
    "    \n",
    "    # write to csv\n",
    "    file_name = data_loc + 'processed_data_' + session_num + '.csv'\n",
    "    df_all.to_csv(file_name)\n",
    "    \n",
    "    # return df\n",
    "    return df_all"
   ]
  },
  {
   "cell_type": "code",
   "execution_count": 4,
   "id": "b4e28238",
   "metadata": {},
   "outputs": [
    {
     "name": "stdout",
     "output_type": "stream",
     "text": [
      "processing session 097\n",
      "processing session 098\n",
      "processing session 099\n",
      "processing session 100\n",
      "processing session 101\n",
      "processing session 102\n",
      "processing session 103\n",
      "processing session 104\n",
      "processing session 105\n",
      "processing session 106\n",
      "processing session 107\n",
      "processing session 108\n",
      "processing session 109\n",
      "processing session 110\n",
      "processing session 111\n",
      "processing session 112\n",
      "processing session 113\n",
      "processing session 114\n"
     ]
    }
   ],
   "source": [
    "# process all sessions\n",
    "ids = ['097', '098', '099', '100', '101', '102', '103', '104', '105', \n",
    "       '106', '107', '108', '109', '110', '111', '112', '113', '114']\n",
    "for i in ids:\n",
    "    process_data(i)"
   ]
  },
  {
   "cell_type": "code",
   "execution_count": null,
   "id": "03a63878",
   "metadata": {},
   "outputs": [],
   "source": []
  }
 ],
 "metadata": {
  "kernelspec": {
   "display_name": "Python 3 (ipykernel)",
   "language": "python",
   "name": "python3"
  },
  "language_info": {
   "codemirror_mode": {
    "name": "ipython",
    "version": 3
   },
   "file_extension": ".py",
   "mimetype": "text/x-python",
   "name": "python",
   "nbconvert_exporter": "python",
   "pygments_lexer": "ipython3",
   "version": "3.9.13"
  }
 },
 "nbformat": 4,
 "nbformat_minor": 5
}
